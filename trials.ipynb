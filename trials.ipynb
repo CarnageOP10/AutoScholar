{
 "cells": [
  {
   "cell_type": "code",
   "execution_count": 1,
   "id": "9b232184",
   "metadata": {},
   "outputs": [],
   "source": [
    "import arxiv"
   ]
  },
  {
   "cell_type": "code",
   "execution_count": 5,
   "id": "e368d5dc",
   "metadata": {},
   "outputs": [
    {
     "name": "stdout",
     "output_type": "stream",
     "text": [
      "<generator object <genexpr> at 0x000001344CFCDCB0>\n"
     ]
    },
    {
     "name": "stderr",
     "output_type": "stream",
     "text": [
      "C:\\Users\\parth\\AppData\\Local\\Temp\\ipykernel_23680\\408176984.py:6: DeprecationWarning: The 'Search.results' method is deprecated, use 'Client.results' instead\n",
      "  print(paper for paper in search.results())\n"
     ]
    }
   ],
   "source": [
    "search = arxiv.Search(\n",
    "            query=\"quantum computing\",\n",
    "            max_results=2,\n",
    "            sort_by=arxiv.SortCriterion.Relevance\n",
    "        )\n",
    "print(paper for paper in search.results())"
   ]
  },
  {
   "cell_type": "code",
   "execution_count": null,
   "id": "52f518dc",
   "metadata": {},
   "outputs": [],
   "source": []
  }
 ],
 "metadata": {
  "kernelspec": {
   "display_name": "Python 3",
   "language": "python",
   "name": "python3"
  },
  "language_info": {
   "codemirror_mode": {
    "name": "ipython",
    "version": 3
   },
   "file_extension": ".py",
   "mimetype": "text/x-python",
   "name": "python",
   "nbconvert_exporter": "python",
   "pygments_lexer": "ipython3",
   "version": "3.11.6"
  }
 },
 "nbformat": 4,
 "nbformat_minor": 5
}
